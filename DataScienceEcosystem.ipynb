{
 "cells": [
  {
   "cell_type": "markdown",
   "id": "0c2bff58-ccf2-479b-befd-1d393673a7b6",
   "metadata": {},
   "source": [
    "# Data Science Tools and Ecosystem"
   ]
  },
  {
   "cell_type": "markdown",
   "id": "840dd705-334f-4998-b6dc-efd33b2280b2",
   "metadata": {},
   "source": [
    "In this notebook, Data Science Tools and Ecosystem are summarized."
   ]
  },
  {
   "cell_type": "markdown",
   "id": "a411fa15-da82-4a74-b494-b73e0f8f07f1",
   "metadata": {},
   "source": [
    "<b>Objectives:</b> \n",
    "* List commonly used languages\n",
    "* List commonly used libraries\n",
    "* Create a table with three development environmnet open source tools"
   ]
  },
  {
   "cell_type": "markdown",
   "id": "7baea574-5527-45fc-9b23-2bc0a679268e",
   "metadata": {},
   "source": [
    "Some of the popular languages that Data Scientists use are:\n",
    "1. Python\n",
    "2. R\n",
    "3. SQL"
   ]
  },
  {
   "cell_type": "markdown",
   "id": "76b105bc-188f-468a-a4d1-af8cb638e942",
   "metadata": {},
   "source": [
    "Some of the commonly used libraries used by Data Scientists include:\n",
    "1. Pandas\n",
    "2. TensorFlow\n",
    "3. NumPy"
   ]
  },
  {
   "cell_type": "markdown",
   "id": "a62ba4da-b8bb-468f-babb-4830528ee570",
   "metadata": {},
   "source": [
    "| Data Science Tools |\n",
    "|--------------------|\n",
    "| Jupyter Notebooks  | \n",
    "| BeautifulSoup      |\n",
    "| Python             | \n"
   ]
  },
  {
   "cell_type": "markdown",
   "id": "6457f621-ea05-45f4-97f8-991d73b7fa71",
   "metadata": {},
   "source": [
    "### Below are a few examples of evaluating arithmetic expressions in Python"
   ]
  },
  {
   "cell_type": "code",
   "execution_count": 2,
   "id": "9aa79a71-009f-4357-9121-3af7d9461d5d",
   "metadata": {},
   "outputs": [
    {
     "data": {
      "text/plain": [
       "17"
      ]
     },
     "execution_count": 2,
     "metadata": {},
     "output_type": "execute_result"
    }
   ],
   "source": [
    "# This is a simple arithmetic expression to multiply then add integers\n",
    "(3*4)+5"
   ]
  },
  {
   "cell_type": "code",
   "execution_count": 4,
   "id": "f18d2dba-5a39-4cb7-8d0b-6f83155c4455",
   "metadata": {},
   "outputs": [
    {
     "name": "stdout",
     "output_type": "stream",
     "text": [
      "200 minutes = 3.3333333333333335 hours.\n"
     ]
    }
   ],
   "source": [
    "# This will convert 200 minutes to hours by dividing by 60\n",
    "m = 200\n",
    "h = 200/60\n",
    "\n",
    "print(f'{m} minutes = {h} hours.')"
   ]
  },
  {
   "cell_type": "markdown",
   "id": "028228f0-7387-4f8f-8dbd-3be7a431cbd2",
   "metadata": {},
   "source": [
    "## Author\n",
    "Remnasa"
   ]
  },
  {
   "cell_type": "code",
   "execution_count": null,
   "id": "fe85f0c0-7583-4da5-9057-5021f0246eae",
   "metadata": {},
   "outputs": [],
   "source": []
  }
 ],
 "metadata": {
  "kernelspec": {
   "display_name": "Python 3 (ipykernel)",
   "language": "python",
   "name": "python3"
  },
  "language_info": {
   "codemirror_mode": {
    "name": "ipython",
    "version": 3
   },
   "file_extension": ".py",
   "mimetype": "text/x-python",
   "name": "python",
   "nbconvert_exporter": "python",
   "pygments_lexer": "ipython3",
   "version": "3.11.9"
  }
 },
 "nbformat": 4,
 "nbformat_minor": 5
}
